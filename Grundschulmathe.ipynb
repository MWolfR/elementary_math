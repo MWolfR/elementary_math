{
 "cells": [
  {
   "cell_type": "code",
   "execution_count": 1,
   "id": "cc2a23c5",
   "metadata": {},
   "outputs": [],
   "source": [
    "from matplotlib import pyplot as plt\n",
    "\n",
    "import numpy\n",
    "\n",
    "\"\"\"\n",
    "a) Jeder Zahl 0 <= x <= 5 wird das um 2 vergroesserte doppelte zugeordnet\n",
    "\"\"\"\n",
    "def aufgabe_a(x):\n",
    "    if 0 <= x <= 5:\n",
    "        y = x * 2 + 2\n",
    "    else:\n",
    "        y = numpy.NaN  # Not a number -- keine gueltige Zahl\n",
    "    return y\n",
    "\n",
    "\"\"\"\n",
    "b) Jeder Zahl 0 <= x <= 5 wird sein Kehrwert zugeordnet\n",
    "\"\"\"\n",
    "def aufgabe_b(x):\n",
    "    if 0 <= x <= 5:\n",
    "        y = 1.0 / x\n",
    "    else:\n",
    "        y = numpy.NaN  # Not a number -- keine gueltige Zahl\n",
    "    return y\n",
    "\n",
    "\"\"\"\n",
    "c) Jeder Zahl 0 < x < 5 wird die naechstgelegene natuerliche Zahl zugeordnet \n",
    "\"\"\"\n",
    "def aufgabe_c(x):\n",
    "    if 0 < x < 4:\n",
    "        y = int(numpy.round(x))  # Die Zahl wird gerunded (round) und zur natuerlichen Zahl gemacht (int)\n",
    "    else:\n",
    "        y = numpy.NaN  # Not a number -- keine gueltige Zahl\n",
    "    return y\n",
    "\n",
    "def loese(x_werte, funktion):\n",
    "    y_werte = [funktion(x) for x in x_werte]  # Wende die Funktion auf alle werte an\n",
    "    return y_werte"
   ]
  },
  {
   "cell_type": "code",
   "execution_count": 4,
   "id": "a242b238",
   "metadata": {},
   "outputs": [
    {
     "name": "stderr",
     "output_type": "stream",
     "text": [
      "<ipython-input-1-afb9e5837dba>:20: RuntimeWarning: divide by zero encountered in double_scalars\n",
      "  y = 1.0 / x\n"
     ]
    },
    {
     "data": {
      "text/plain": [
       "<matplotlib.legend.Legend at 0x2aaae395e8e0>"
      ]
     },
     "execution_count": 4,
     "metadata": {},
     "output_type": "execute_result"
    },
    {
     "data": {
      "image/png": "[encoded data removed]",
      "text/plain": [
       "<Figure size 1008x216 with 3 Axes>"
      ]
     },
     "metadata": {
      "needs_background": "light"
     },
     "output_type": "display_data"
    }
   ],
   "source": [
    "x = numpy.arange(0, 6, 0.01)  # Zahlen von 0 bis 6 in Schritten von 0.01\n",
    "\n",
    "fig = plt.figure(figsize=(14, 3))\n",
    "fig.add_subplot(1, 3, 1).plot(x, loese(x, aufgabe_a), color=\"red\", label=\"Aufgabe a\")\n",
    "plt.gca().set_xlabel(\"x\"); plt.gca().set_ylabel(\"y\"); plt.legend()\n",
    "fig.add_subplot(1, 3, 2).plot(x, loese(x, aufgabe_b), color=\"green\", label=\"Aufgabe b\")\n",
    "plt.gca().set_xlabel(\"x\"); plt.gca().set_ylabel(\"y\"); plt.legend()\n",
    "fig.add_subplot(1, 3, 3).plot(x, loese(x, aufgabe_c), color=\"blue\", label=\"Aufgabe c\")\n",
    "plt.gca().set_xlabel(\"x\"); plt.gca().set_ylabel(\"y\"); plt.legend()\n"
   ]
  },
  {
   "cell_type": "code",
   "execution_count": null,
   "id": "328d454a",
   "metadata": {},
   "outputs": [],
   "source": []
  }
 ],
 "metadata": {
  "kernelspec": {
   "display_name": "Python 3",
   "language": "python",
   "name": "python3"
  },
  "language_info": {
   "codemirror_mode": {
    "name": "ipython",
    "version": 3
   },
   "file_extension": ".py",
   "mimetype": "text/x-python",
   "name": "python",
   "nbconvert_exporter": "python",
   "pygments_lexer": "ipython3",
   "version": "3.8.3"
  }
 },
 "nbformat": 4,
 "nbformat_minor": 5
}
